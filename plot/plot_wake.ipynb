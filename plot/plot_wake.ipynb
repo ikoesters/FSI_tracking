{
 "metadata": {
  "language_info": {
   "codemirror_mode": {
    "name": "ipython",
    "version": 3
   },
   "file_extension": ".py",
   "mimetype": "text/x-python",
   "name": "python",
   "nbconvert_exporter": "python",
   "pygments_lexer": "ipython3",
   "version": "3.8.6-final"
  },
  "orig_nbformat": 2,
  "kernelspec": {
   "name": "python3",
   "display_name": "Python 3"
  }
 },
 "nbformat": 4,
 "nbformat_minor": 2,
 "cells": [
  {
   "cell_type": "code",
   "execution_count": null,
   "metadata": {},
   "outputs": [],
   "source": [
    "import pathlib\n",
    "\n",
    "import imageio\n",
    "import matplotlib.pyplot as plt\n",
    "import numpy as np\n",
    "import scipy.ndimage as ndi\n",
    "import seaborn as sns\n",
    "import skimage.draw as draw\n",
    "from tqdm import tqdm\n",
    "import pandas as pd"
   ]
  },
  {
   "cell_type": "code",
   "execution_count": null,
   "metadata": {},
   "outputs": [],
   "source": [
    "pathlib.Path.cwd()"
   ]
  },
  {
   "cell_type": "code",
   "execution_count": null,
   "metadata": {},
   "outputs": [],
   "source": [
    "# Execute in wake folder\n",
    "data_w = np.load(\"angle_diffs.npy\")\n",
    "keys_w = np.load(\"angle_keys.npy\")\n",
    "df_w = pd.DataFrame(data=data, columns=keys)\n",
    "df_w[\"Diameter\"] = df_w[\"Diameter\"].values.astype(\"uint\")\n",
    "df_w[\"Seed\"] = df_w[\"Seed\"].astype(\"uint\")\n",
    "\n",
    "data_nw = np.load(\"../angle/angle_diffs.npy\")\n",
    "keys_nw = np.load(\"../angle/angle_keys.npy\")\n",
    "df_nw = pd.DataFrame(data=data_nw, columns=keys_nw)\n",
    "df_nw[\"Diameter\"] = df_nw[\"Diameter\"].values.astype(\"uint\")\n",
    "df_nw[\"Seed\"] = df_nw[\"Seed\"].astype(\"uint\")\n",
    "\n",
    "df = pd.concat([df_nw.assign(case='no wake'),df_w.assign(case='wake')])\n"
   ]
  },
  {
   "cell_type": "code",
   "execution_count": null,
   "metadata": {},
   "outputs": [],
   "source": [
    "sns.set(rc={'figure.figsize':(10, 4)})\n",
    "sns.set_style(\"whitegrid\")\n",
    "plt.figure(dpi=300)\n",
    "ax = sns.boxplot(data=df, x=\"Seed\", y=\"Angle_Difference\", hue=\"case\", linewidth=0.5, )\n",
    "ax.set(xlabel=\"Seed Density\", ylabel=\"Angle Difference\")\n"
   ]
  }
 ]
}