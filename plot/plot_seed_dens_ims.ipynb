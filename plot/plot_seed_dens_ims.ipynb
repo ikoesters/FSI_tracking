{
 "cells": [
  {
   "source": [
    "from pathlib import Path\n",
    "\n",
    "from mask import Mask\n",
    "from model import Model\n",
    "from segmenter import Segmenter\n",
    "from synthetic_images import SyntheticImages\n",
    "import _utils as ut\n",
    "import matplotlib.pyplot as plt\n",
    "import numpy as np\n",
    "import imageio"
   ],
   "cell_type": "code",
   "metadata": {},
   "execution_count": 13,
   "outputs": []
  },
  {
   "source": [
    "Generate Wake Images"
   ],
   "cell_type": "markdown",
   "metadata": {}
  },
  {
   "cell_type": "code",
   "execution_count": 16,
   "metadata": {},
   "outputs": [
    {
     "output_type": "stream",
     "name": "stdout",
     "text": [
      "O\n"
     ]
    }
   ],
   "source": [
    "naca_model = (15, 5, 18)\n",
    "seed_dens_in_wake = 250\n",
    "meas = SyntheticImages(naca_model=naca_model, seed_dens_in_wake=seed_dens_in_wake)\n",
    "ut.make_folder(\"plots\")\n",
    "for seed in range(200, 501, 50):\n",
    "    thresh = meas.find_seed_density(seed)\n",
    "    image = meas.naive_background_gen(thresh)\n",
    "    mask = meas.naca_ill_contour()\n",
    "    masked_image = image * mask\n",
    "    masked_image = (np.where(masked_image > 0, 1, 0) * 255).astype(\"uint8\")\n",
    "    imageio.imwrite(f\"plots/wake{seed_dens_in_wake}_seed{seed}.png\", masked_image.T)"
   ]
  },
  {
   "source": [
    "Generate Images w/o Wake"
   ],
   "cell_type": "markdown",
   "metadata": {}
  },
  {
   "cell_type": "code",
   "execution_count": 15,
   "metadata": {},
   "outputs": [],
   "source": [
    "naca_model = (15, 5, 18)\n",
    "seed_dens_in_wake = 250\n",
    "meas = SyntheticImages(naca_model=naca_model)\n",
    "ut.make_folder(\"plots\")\n",
    "for seed in range(200, 501, 50):\n",
    "    thresh = meas.find_seed_density(seed)\n",
    "    image = meas.naive_background_gen(thresh)\n",
    "    mask = meas.naca_ill_contour()\n",
    "    masked_image = image * mask\n",
    "    masked_image = (np.where(masked_image > 0, 1, 0) * 255).astype(\"uint8\")\n",
    "    imageio.imwrite(f\"plots/seed{seed}.png\", masked_image.T)"
   ]
  },
  {
   "cell_type": "code",
   "execution_count": null,
   "metadata": {},
   "outputs": [],
   "source": []
  }
 ],
 "metadata": {
  "kernelspec": {
   "name": "Python 3.8.6 64-bit ('piv_env': conda)",
   "display_name": "Python 3.8.6 64-bit ('piv_env': conda)",
   "metadata": {
    "interpreter": {
     "hash": "4dac3936a118b33e2c8f189ac97a35468cc1f576800b5ed743b7ee3f180154d7"
    }
   }
  },
  "language_info": {
   "codemirror_mode": {
    "name": "ipython",
    "version": 3
   },
   "file_extension": ".py",
   "mimetype": "text/x-python",
   "name": "python",
   "nbconvert_exporter": "python",
   "pygments_lexer": "ipython3",
   "version": "3.8.6-final"
  }
 },
 "nbformat": 4,
 "nbformat_minor": 4
}