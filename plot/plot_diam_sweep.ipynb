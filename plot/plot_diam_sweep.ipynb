{
 "metadata": {
  "language_info": {
   "codemirror_mode": {
    "name": "ipython",
    "version": 3
   },
   "file_extension": ".py",
   "mimetype": "text/x-python",
   "name": "python",
   "nbconvert_exporter": "python",
   "pygments_lexer": "ipython3",
   "version": "3.8.6-final"
  },
  "orig_nbformat": 2,
  "kernelspec": {
   "name": "python3",
   "display_name": "Python 3"
  }
 },
 "nbformat": 4,
 "nbformat_minor": 2,
 "cells": [
  {
   "cell_type": "code",
   "execution_count": null,
   "metadata": {},
   "outputs": [],
   "source": [
    "import pathlib\n",
    "\n",
    "import imageio\n",
    "import matplotlib.pyplot as plt\n",
    "import numpy as np\n",
    "import scipy.ndimage as ndi\n",
    "import seaborn as sns\n",
    "import skimage.draw as draw\n",
    "from tqdm import tqdm\n",
    "import pandas as pd"
   ]
  },
  {
   "cell_type": "code",
   "execution_count": null,
   "metadata": {},
   "outputs": [],
   "source": [
    "pathlib.Path.cwd()"
   ]
  },
  {
   "cell_type": "code",
   "execution_count": null,
   "metadata": {},
   "outputs": [],
   "source": [
    "data = np.load(\"angle_diffs.npy\")\n",
    "keys = np.load(\"angle_keys.npy\")\n",
    "\n",
    "df = pd.DataFrame(data=data, columns=keys)\n",
    "df[\"Diameter\"] = df[\"Diameter\"].values.astype(\"uint\")\n",
    "df[\"Seed\"] = df[\"Seed\"].astype(\"uint\")"
   ]
  },
  {
   "cell_type": "code",
   "execution_count": null,
   "metadata": {},
   "outputs": [],
   "source": [
    "sns.set(rc={'figure.figsize':(10, 4)})\n",
    "plt.figure(dpi=300)\n",
    "ax = sns.boxplot(data=df, x=\"Seed\", y=\"Angle_Difference\", hue=\"Diameter\", linewidth=0.5)\n",
    "ax.set(xlabel=\"Seed Density\", ylabel=\"Angle Difference\")"
   ]
  }
 ]
}